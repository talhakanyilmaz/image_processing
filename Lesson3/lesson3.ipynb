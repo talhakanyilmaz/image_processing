{
 "cells": [
  {
   "cell_type": "code",
   "execution_count": 1,
   "metadata": {},
   "outputs": [
    {
     "data": {
      "text/plain": [
       "['.ipynb_checkpoints', 'lesson3.ipynb']"
      ]
     },
     "execution_count": 1,
     "metadata": {},
     "output_type": "execute_result"
    }
   ],
   "source": [
    "import os\n",
    "os.listdir()"
   ]
  },
  {
   "cell_type": "code",
   "execution_count": 3,
   "metadata": {},
   "outputs": [
    {
     "data": {
      "text/plain": [
       "(3.3, 2.2333333333333334)"
      ]
     },
     "execution_count": 3,
     "metadata": {},
     "output_type": "execute_result"
    }
   ],
   "source": [
    "list1 = [2,4,3,4,5,6,3,3,2,1]\n",
    "def meanAndVariance(list1=[2,4,3,4,5,6,3,3,2,1]):\n",
    "    \n",
    "    t=0\n",
    "    s=0\n",
    "    \n",
    "    for i in list1:\n",
    "        s=s+1\n",
    "        t=t+i\n",
    "        \n",
    "    mean1=t/s\n",
    "    \n",
    "    t=0\n",
    "    s=0\n",
    "    \n",
    "    for i in list1:\n",
    "        s=s+1\n",
    "        t=t+(i-mean1)*(i-mean1)\n",
    "    \n",
    "    var1 = t/(s-1)\n",
    "    \n",
    "    return mean1, var1\n",
    "meanAndVariance()"
   ]
  },
  {
   "cell_type": "code",
   "execution_count": 4,
   "metadata": {},
   "outputs": [
    {
     "data": {
      "text/plain": [
       "{2: 2, 4: 2, 3: 3, 5: 1, 6: 1, 1: 1}"
      ]
     },
     "execution_count": 4,
     "metadata": {},
     "output_type": "execute_result"
    }
   ],
   "source": [
    "myHistogram = {}\n",
    "for i in list1:\n",
    "    if i in myHistogram.keys():\n",
    "        myHistogram[i] = myHistogram[i]+1\n",
    "    else:\n",
    "        myHistogram[i] = 1\n",
    "myHistogram"
   ]
  },
  {
   "cell_type": "code",
   "execution_count": 5,
   "metadata": {},
   "outputs": [
    {
     "name": "stdout",
     "output_type": "stream",
     "text": [
      "2 2\n",
      "4 2\n",
      "3 3\n",
      "5 1\n",
      "6 1\n",
      "1 1\n"
     ]
    }
   ],
   "source": [
    "for i in myHistogram.keys():\n",
    "    print(i, myHistogram[i])"
   ]
  },
  {
   "cell_type": "code",
   "execution_count": 6,
   "metadata": {},
   "outputs": [],
   "source": [
    "import matplotlib.pyplot as plt\n",
    "import numpy as np"
   ]
  },
  {
   "cell_type": "code",
   "execution_count": 8,
   "metadata": {},
   "outputs": [],
   "source": [
    "image = plt.imread('ITcrowd.jpg')"
   ]
  },
  {
   "cell_type": "code",
   "execution_count": 10,
   "metadata": {},
   "outputs": [],
   "source": [
    "def histogramFunction(image = plt.imread('ITcrowd.jpg')):\n",
    "    m,n,p = image.shape\n",
    "    myHistogram = {}\n",
    "    for i in range(m):\n",
    "        for j in range(n):\n",
    "            if image[i,j,0] in myHistogram.keys():\n",
    "                myHistogram[image[i,j,0]] = myHistogram[image[i,j,0]] + 1\n",
    "            else:\n",
    "                myHistogram[image[i,j,0]] = 1\n",
    "    return myHistogram"
   ]
  },
  {
   "cell_type": "code",
   "execution_count": 11,
   "metadata": {},
   "outputs": [],
   "source": [
    "def histogramUygunHaleGetir(myHistogram = histogramFunction()):\n",
    "    x=[]\n",
    "    y=[]\n",
    "    for key in myHistogram.keys():\n",
    "        x.append(key)\n",
    "        y.append(myHistogram[key])\n",
    "    return x,y"
   ]
  },
  {
   "cell_type": "code",
   "execution_count": 13,
   "metadata": {},
   "outputs": [
    {
     "data": {
      "text/plain": [
       "<function matplotlib.pyplot.show(*args, **kw)>"
      ]
     },
     "execution_count": 13,
     "metadata": {},
     "output_type": "execute_result"
    },
    {
     "data": {
      "image/png": "[encoded data removed]",
      "text/plain": [
       "<Figure size 432x288 with 1 Axes>"
      ]
     },
     "metadata": {
      "needs_background": "light"
     },
     "output_type": "display_data"
    }
   ],
   "source": [
    "x,y = histogramUygunHaleGetir()\n",
    "plt.bar(x,y)\n",
    "plt.show"
   ]
  }
 ],
 "metadata": {
  "kernelspec": {
   "display_name": "Python 3",
   "language": "python",
   "name": "python3"
  },
  "language_info": {
   "codemirror_mode": {
    "name": "ipython",
    "version": 3
   },
   "file_extension": ".py",
   "mimetype": "text/x-python",
   "name": "python",
   "nbconvert_exporter": "python",
   "pygments_lexer": "ipython3",
   "version": "3.6.8"
  }
 },
 "nbformat": 4,
 "nbformat_minor": 2
}
